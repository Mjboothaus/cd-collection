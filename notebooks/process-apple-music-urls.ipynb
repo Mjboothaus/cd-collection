{
 "cells": [
  {
   "cell_type": "code",
   "execution_count": 1,
   "metadata": {},
   "outputs": [],
   "source": [
    "import httpx\n",
    "import pandas as pd\n",
    "\n",
    "from pathlib import Path\n",
    "from bs4 import BeautifulSoup\n"
   ]
  },
  {
   "cell_type": "code",
   "execution_count": 2,
   "metadata": {},
   "outputs": [],
   "source": [
    "MUSIC_URL_FILE = \"../data/list_cds.md\"\n",
    "CD_INFO_FILE = \"../data/cd_info.parquet\""
   ]
  },
  {
   "cell_type": "code",
   "execution_count": 3,
   "metadata": {},
   "outputs": [],
   "source": [
    "def extract_urls_from_list_cds(music_file=MUSIC_URL_FILE):\n",
    "    with open(music_file, \"r\") as f:\n",
    "        music_urls = f.readlines()\n",
    "    music_urls  = [line.strip() for line in music_urls if line != \"\\n\"]\n",
    "    music_urls = music_urls[1:]\n",
    "    return music_urls"
   ]
  },
  {
   "cell_type": "code",
   "execution_count": 4,
   "metadata": {},
   "outputs": [],
   "source": [
    "def extract_music_info(music_url: str):\n",
    "    r = httpx.get(music_url, timeout=60)\n",
    "    soup = BeautifulSoup(r.text, \"html\")\n",
    "    title = soup.find(\"meta\", {\"name\" : \"apple:title\"})['content']\n",
    "    title_artist = soup.find(\"meta\", {\"property\" : \"og:title\"})['content']\n",
    "    artist = title_artist.replace(f\"{title} by \", \"\")\n",
    "    return title, artist"
   ]
  },
  {
   "cell_type": "code",
   "execution_count": 5,
   "metadata": {},
   "outputs": [],
   "source": [
    "def create_info_df_for_every_album(music_urls):\n",
    "    cd_info = []\n",
    "    for url in music_urls:\n",
    "        title, artist = extract_music_info(url)\n",
    "        cd_info.append([title, artist, url])\n",
    "    cd_info_df = pd.DataFrame(cd_info)\n",
    "    cd_info_df.columns = [\"Album Title\", \"Artist\", \"Apple Music URL\"]\n",
    "    return cd_info_df\n",
    "        "
   ]
  },
  {
   "cell_type": "code",
   "execution_count": 6,
   "metadata": {},
   "outputs": [],
   "source": [
    "music_urls = extract_urls_from_list_cds(MUSIC_URL_FILE)"
   ]
  },
  {
   "cell_type": "code",
   "execution_count": null,
   "metadata": {},
   "outputs": [],
   "source": [
    "# Should read current file and skip any existing albums"
   ]
  },
  {
   "cell_type": "code",
   "execution_count": 7,
   "metadata": {},
   "outputs": [],
   "source": [
    "cd_info_df = create_info_df_for_every_album(music_urls)"
   ]
  },
  {
   "cell_type": "code",
   "execution_count": null,
   "metadata": {},
   "outputs": [],
   "source": [
    "cd_info_df"
   ]
  },
  {
   "cell_type": "code",
   "execution_count": null,
   "metadata": {},
   "outputs": [],
   "source": [
    "def write_cd_info_to_parquet(cd_info_df):\n",
    "    output_file = Path(CD_INFO_FILE)\n",
    "    if output_file.exists():\n",
    "       output_file.rename(output_file.with_suffix(\".parquet.BAK\"))\n",
    "    cd_info_df.to_parquet(CD_INFO_FILE)\n",
    "    print(f\"{len(cd_info_df)} albums written\")\n",
    "    return None"
   ]
  },
  {
   "cell_type": "code",
   "execution_count": null,
   "metadata": {},
   "outputs": [],
   "source": [
    "write_cd_info_to_parquet(cd_info_df)"
   ]
  }
 ],
 "metadata": {
  "kernelspec": {
   "display_name": ".venv",
   "language": "python",
   "name": "python3"
  },
  "language_info": {
   "codemirror_mode": {
    "name": "ipython",
    "version": 3
   },
   "file_extension": ".py",
   "mimetype": "text/x-python",
   "name": "python",
   "nbconvert_exporter": "python",
   "pygments_lexer": "ipython3",
   "version": "3.11.2"
  },
  "orig_nbformat": 4
 },
 "nbformat": 4,
 "nbformat_minor": 2
}
